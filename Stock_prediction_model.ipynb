{
  "nbformat": 4,
  "nbformat_minor": 0,
  "metadata": {
    "colab": {
      "provenance": [],
      "authorship_tag": "ABX9TyOF/i4udc4VddTu7iu5wEvc",
      "include_colab_link": true
    },
    "kernelspec": {
      "name": "python3",
      "display_name": "Python 3"
    },
    "language_info": {
      "name": "python"
    }
  },
  "cells": [
    {
      "cell_type": "markdown",
      "metadata": {
        "id": "view-in-github",
        "colab_type": "text"
      },
      "source": [
        "<a href=\"https://colab.research.google.com/github/Y7un/Stock-price-prediction/blob/main/Stock_prediction_model.ipynb\" target=\"_parent\"><img src=\"https://colab.research.google.com/assets/colab-badge.svg\" alt=\"Open In Colab\"/></a>"
      ]
    },
    {
      "cell_type": "code",
      "execution_count": 4,
      "metadata": {
        "id": "W4ARn4gtTh66",
        "colab": {
          "base_uri": "https://localhost:8080/",
          "height": 73
        },
        "outputId": "7cbda11b-53d6-461d-e25b-d26481bc8ebb"
      },
      "outputs": [
        {
          "output_type": "display_data",
          "data": {
            "text/plain": [
              "<IPython.core.display.HTML object>"
            ],
            "text/html": [
              "\n",
              "     <input type=\"file\" id=\"files-f9fb968e-155d-4f01-a0f9-518b48f2703e\" name=\"files[]\" multiple disabled\n",
              "        style=\"border:none\" />\n",
              "     <output id=\"result-f9fb968e-155d-4f01-a0f9-518b48f2703e\">\n",
              "      Upload widget is only available when the cell has been executed in the\n",
              "      current browser session. Please rerun this cell to enable.\n",
              "      </output>\n",
              "      <script>// Copyright 2017 Google LLC\n",
              "//\n",
              "// Licensed under the Apache License, Version 2.0 (the \"License\");\n",
              "// you may not use this file except in compliance with the License.\n",
              "// You may obtain a copy of the License at\n",
              "//\n",
              "//      http://www.apache.org/licenses/LICENSE-2.0\n",
              "//\n",
              "// Unless required by applicable law or agreed to in writing, software\n",
              "// distributed under the License is distributed on an \"AS IS\" BASIS,\n",
              "// WITHOUT WARRANTIES OR CONDITIONS OF ANY KIND, either express or implied.\n",
              "// See the License for the specific language governing permissions and\n",
              "// limitations under the License.\n",
              "\n",
              "/**\n",
              " * @fileoverview Helpers for google.colab Python module.\n",
              " */\n",
              "(function(scope) {\n",
              "function span(text, styleAttributes = {}) {\n",
              "  const element = document.createElement('span');\n",
              "  element.textContent = text;\n",
              "  for (const key of Object.keys(styleAttributes)) {\n",
              "    element.style[key] = styleAttributes[key];\n",
              "  }\n",
              "  return element;\n",
              "}\n",
              "\n",
              "// Max number of bytes which will be uploaded at a time.\n",
              "const MAX_PAYLOAD_SIZE = 100 * 1024;\n",
              "\n",
              "function _uploadFiles(inputId, outputId) {\n",
              "  const steps = uploadFilesStep(inputId, outputId);\n",
              "  const outputElement = document.getElementById(outputId);\n",
              "  // Cache steps on the outputElement to make it available for the next call\n",
              "  // to uploadFilesContinue from Python.\n",
              "  outputElement.steps = steps;\n",
              "\n",
              "  return _uploadFilesContinue(outputId);\n",
              "}\n",
              "\n",
              "// This is roughly an async generator (not supported in the browser yet),\n",
              "// where there are multiple asynchronous steps and the Python side is going\n",
              "// to poll for completion of each step.\n",
              "// This uses a Promise to block the python side on completion of each step,\n",
              "// then passes the result of the previous step as the input to the next step.\n",
              "function _uploadFilesContinue(outputId) {\n",
              "  const outputElement = document.getElementById(outputId);\n",
              "  const steps = outputElement.steps;\n",
              "\n",
              "  const next = steps.next(outputElement.lastPromiseValue);\n",
              "  return Promise.resolve(next.value.promise).then((value) => {\n",
              "    // Cache the last promise value to make it available to the next\n",
              "    // step of the generator.\n",
              "    outputElement.lastPromiseValue = value;\n",
              "    return next.value.response;\n",
              "  });\n",
              "}\n",
              "\n",
              "/**\n",
              " * Generator function which is called between each async step of the upload\n",
              " * process.\n",
              " * @param {string} inputId Element ID of the input file picker element.\n",
              " * @param {string} outputId Element ID of the output display.\n",
              " * @return {!Iterable<!Object>} Iterable of next steps.\n",
              " */\n",
              "function* uploadFilesStep(inputId, outputId) {\n",
              "  const inputElement = document.getElementById(inputId);\n",
              "  inputElement.disabled = false;\n",
              "\n",
              "  const outputElement = document.getElementById(outputId);\n",
              "  outputElement.innerHTML = '';\n",
              "\n",
              "  const pickedPromise = new Promise((resolve) => {\n",
              "    inputElement.addEventListener('change', (e) => {\n",
              "      resolve(e.target.files);\n",
              "    });\n",
              "  });\n",
              "\n",
              "  const cancel = document.createElement('button');\n",
              "  inputElement.parentElement.appendChild(cancel);\n",
              "  cancel.textContent = 'Cancel upload';\n",
              "  const cancelPromise = new Promise((resolve) => {\n",
              "    cancel.onclick = () => {\n",
              "      resolve(null);\n",
              "    };\n",
              "  });\n",
              "\n",
              "  // Wait for the user to pick the files.\n",
              "  const files = yield {\n",
              "    promise: Promise.race([pickedPromise, cancelPromise]),\n",
              "    response: {\n",
              "      action: 'starting',\n",
              "    }\n",
              "  };\n",
              "\n",
              "  cancel.remove();\n",
              "\n",
              "  // Disable the input element since further picks are not allowed.\n",
              "  inputElement.disabled = true;\n",
              "\n",
              "  if (!files) {\n",
              "    return {\n",
              "      response: {\n",
              "        action: 'complete',\n",
              "      }\n",
              "    };\n",
              "  }\n",
              "\n",
              "  for (const file of files) {\n",
              "    const li = document.createElement('li');\n",
              "    li.append(span(file.name, {fontWeight: 'bold'}));\n",
              "    li.append(span(\n",
              "        `(${file.type || 'n/a'}) - ${file.size} bytes, ` +\n",
              "        `last modified: ${\n",
              "            file.lastModifiedDate ? file.lastModifiedDate.toLocaleDateString() :\n",
              "                                    'n/a'} - `));\n",
              "    const percent = span('0% done');\n",
              "    li.appendChild(percent);\n",
              "\n",
              "    outputElement.appendChild(li);\n",
              "\n",
              "    const fileDataPromise = new Promise((resolve) => {\n",
              "      const reader = new FileReader();\n",
              "      reader.onload = (e) => {\n",
              "        resolve(e.target.result);\n",
              "      };\n",
              "      reader.readAsArrayBuffer(file);\n",
              "    });\n",
              "    // Wait for the data to be ready.\n",
              "    let fileData = yield {\n",
              "      promise: fileDataPromise,\n",
              "      response: {\n",
              "        action: 'continue',\n",
              "      }\n",
              "    };\n",
              "\n",
              "    // Use a chunked sending to avoid message size limits. See b/62115660.\n",
              "    let position = 0;\n",
              "    do {\n",
              "      const length = Math.min(fileData.byteLength - position, MAX_PAYLOAD_SIZE);\n",
              "      const chunk = new Uint8Array(fileData, position, length);\n",
              "      position += length;\n",
              "\n",
              "      const base64 = btoa(String.fromCharCode.apply(null, chunk));\n",
              "      yield {\n",
              "        response: {\n",
              "          action: 'append',\n",
              "          file: file.name,\n",
              "          data: base64,\n",
              "        },\n",
              "      };\n",
              "\n",
              "      let percentDone = fileData.byteLength === 0 ?\n",
              "          100 :\n",
              "          Math.round((position / fileData.byteLength) * 100);\n",
              "      percent.textContent = `${percentDone}% done`;\n",
              "\n",
              "    } while (position < fileData.byteLength);\n",
              "  }\n",
              "\n",
              "  // All done.\n",
              "  yield {\n",
              "    response: {\n",
              "      action: 'complete',\n",
              "    }\n",
              "  };\n",
              "}\n",
              "\n",
              "scope.google = scope.google || {};\n",
              "scope.google.colab = scope.google.colab || {};\n",
              "scope.google.colab._files = {\n",
              "  _uploadFiles,\n",
              "  _uploadFilesContinue,\n",
              "};\n",
              "})(self);\n",
              "</script> "
            ]
          },
          "metadata": {}
        },
        {
          "output_type": "stream",
          "name": "stdout",
          "text": [
            "Saving TSLA.csv to TSLA.csv\n"
          ]
        }
      ],
      "source": [
        "from google.colab import files\n",
        "uploaded = files.upload()"
      ]
    },
    {
      "cell_type": "code",
      "source": [
        "!pip install ta"
      ],
      "metadata": {
        "id": "Ir6YLGNLUMPR"
      },
      "execution_count": null,
      "outputs": []
    },
    {
      "cell_type": "code",
      "source": [
        "import pandas as pd\n",
        "import ta\n",
        "import io"
      ],
      "metadata": {
        "id": "lRR-SdnIU5RT"
      },
      "execution_count": 5,
      "outputs": []
    },
    {
      "cell_type": "code",
      "source": [
        "file_name = list(uploaded.keys())[0]\n",
        "\n",
        "# Read the dataset into a  DataFrame\n",
        "df = pd.read_csv(io.StringIO(uploaded[file_name].decode('utf-8')))\n",
        "\n",
        "stock_data = df\n",
        "\n",
        "stock_data.head()"
      ],
      "metadata": {
        "id": "Ie2Ghc_bVY9t"
      },
      "execution_count": null,
      "outputs": []
    },
    {
      "source": [
        "from matplotlib import pyplot as plt\n",
        "import seaborn as sns\n",
        "def _plot_series(series, series_name, series_index=0):\n",
        "  from matplotlib import pyplot as plt\n",
        "  import seaborn as sns\n",
        "  palette = list(sns.palettes.mpl_palette('Dark2'))\n",
        "  xs = series['Date']\n",
        "  ys = series['Open']\n",
        "\n",
        "  plt.plot(xs, ys, label=series_name, color=palette[series_index % len(palette)])\n",
        "\n",
        "fig, ax = plt.subplots(figsize=(10, 5.2), layout='constrained')\n",
        "df_sorted = _df_9.sort_values('Date', ascending=True)\n",
        "for i, (series_name, series) in enumerate(df_sorted.groupby('Date')):\n",
        "  _plot_series(series, series_name, i)\n",
        "  fig.legend(title='Date', bbox_to_anchor=(1, 1), loc='upper left')\n",
        "sns.despine(fig=fig, ax=ax)\n",
        "plt.xlabel('Date')\n",
        "_ = plt.ylabel('Open')"
      ],
      "cell_type": "code",
      "metadata": {
        "id": "bXqR717IXUih"
      },
      "execution_count": null,
      "outputs": []
    },
    {
      "source": [
        "from matplotlib import pyplot as plt\n",
        "_df_13['Open'].plot(kind='line', figsize=(8, 4), title='Open')\n",
        "plt.gca().spines[['top', 'right']].set_visible(False)"
      ],
      "cell_type": "code",
      "metadata": {
        "id": "uq0OJG0lXMDt"
      },
      "execution_count": null,
      "outputs": []
    },
    {
      "source": [
        "from matplotlib import pyplot as plt\n",
        "_df_3['Close'].plot(kind='hist', bins=20, title='Close')\n",
        "plt.gca().spines[['top', 'right',]].set_visible(False)"
      ],
      "cell_type": "code",
      "metadata": {
        "id": "2fyFmZsoXD-k"
      },
      "execution_count": null,
      "outputs": []
    },
    {
      "source": [
        "from matplotlib import pyplot as plt\n",
        "_df_0['Open'].plot(kind='hist', bins=20, title='Open')\n",
        "plt.gca().spines[['top', 'right',]].set_visible(False)"
      ],
      "cell_type": "code",
      "metadata": {
        "id": "_jSPw-miXEkO"
      },
      "execution_count": null,
      "outputs": []
    },
    {
      "cell_type": "code",
      "source": [
        "# Assuming 'stock_data' with columns 'Date', 'Close', 'High', 'Low'\n",
        "\n",
        "# Convert 'Date' to datetime format\n",
        "stock_data['Date'] = pd.to_datetime(stock_data['Date'])\n",
        "\n",
        "# Calculate SMA and EMA\n",
        "stock_data['SMA_10'] = ta.trend.sma_indicator(stock_data['Close'], window=10)\n",
        "stock_data['EMA_10'] = ta.trend.ema_indicator(stock_data['Close'], window=10)\n",
        "\n",
        "# Calculate RSI\n",
        "stock_data['RSI'] = ta.momentum.RSIIndicator(stock_data['Close'], window=14).rsi()\n",
        "\n",
        "# Calculate MACD\n",
        "stock_data['MACD'] = ta.trend.MACD(stock_data['Close']).macd()\n",
        "stock_data['Signal'] = ta.trend.MACD(stock_data['Close']).macd_signal()\n",
        "\n",
        "# Calculate Bollinger Bands\n",
        "stock_data['Upper_Band'], stock_data['Lower_Band'] = ta.volatility.bollinger_hband_indicator(stock_data['Close'], window=20), ta.volatility.bollinger_lband_indicator(stock_data['Close'], window=20)\n",
        "\n",
        "# Calculate Stochastic Oscillator\n",
        "stock_data['Stochastic_Oscillator'] = ta.momentum.StochasticOscillator(stock_data['High'], stock_data['Low'], stock_data['Close']).stoch()\n",
        "\n",
        "# Print the updated DataFrame\n",
        "print(stock_data)"
      ],
      "metadata": {
        "id": "sBDS_HkqVfIZ"
      },
      "execution_count": null,
      "outputs": []
    },
    {
      "cell_type": "code",
      "source": [
        "import matplotlib.pyplot as plt"
      ],
      "metadata": {
        "id": "OofLwnTWZL-f"
      },
      "execution_count": 8,
      "outputs": []
    },
    {
      "cell_type": "code",
      "source": [
        "plt.plot(stock_data['Date'], stock_data['Close'])\n",
        "plt.title('Stock Price Trend Over Time')\n",
        "plt.xlabel('Date')\n",
        "plt.ylabel('Closing Price')\n",
        "plt.show()"
      ],
      "metadata": {
        "id": "V6GZVtZhZYVQ"
      },
      "execution_count": null,
      "outputs": []
    },
    {
      "cell_type": "code",
      "source": [
        "from statsmodels.tsa.seasonal import seasonal_decompose"
      ],
      "metadata": {
        "id": "mdZlxUHkZlBl"
      },
      "execution_count": 10,
      "outputs": []
    },
    {
      "cell_type": "code",
      "source": [
        "seasonal_period = 7\n",
        "\n",
        "result = seasonal_decompose(stock_data['Close'], model='additive', period=seasonal_period)\n",
        "result.plot()\n",
        "plt.show()"
      ],
      "metadata": {
        "id": "ftrsNeOUZtBU"
      },
      "execution_count": null,
      "outputs": []
    },
    {
      "cell_type": "code",
      "source": [
        "from statsmodels.graphics.tsaplots import plot_acf, plot_pacf\n",
        "\n",
        "plot_acf(stock_data['Close'], lags=20)\n",
        "plt.title('Autocorrelation Function (ACF)')\n",
        "plt.show()\n",
        "\n",
        "plot_pacf(stock_data['Close'], lags=20)\n",
        "plt.title('Partial Autocorrelation Function (PACF)')\n",
        "plt.show()"
      ],
      "metadata": {
        "id": "WywJ7B6raECI"
      },
      "execution_count": null,
      "outputs": []
    },
    {
      "cell_type": "code",
      "source": [
        "from statsmodels.tsa.stattools import adfuller\n",
        "\n",
        "result = adfuller(stock_data['Close'])\n",
        "print('ADF Statistic:', result[0])\n",
        "print('p-value:', result[1])"
      ],
      "metadata": {
        "id": "n8yhLLqzaL6G"
      },
      "execution_count": null,
      "outputs": []
    },
    {
      "cell_type": "code",
      "source": [
        "from statsmodels.tsa.holtwinters import ExponentialSmoothing\n",
        "\n",
        "seasonal_period = 14\n",
        "short_term_steps = 10\n",
        "model = ExponentialSmoothing(stock_data['High'], trend='add', seasonal='add', seasonal_periods=seasonal_period)\n",
        "fitted_model = model.fit()\n",
        "forecast = fitted_model.forecast(steps=short_term_steps)\n",
        "\n",
        "print(stock_data)\n",
        "print(forecast)"
      ],
      "metadata": {
        "id": "fRuxeZH9ahzj"
      },
      "execution_count": null,
      "outputs": []
    },
    {
      "cell_type": "code",
      "source": [
        "import pandas as pd\n",
        "from sklearn.ensemble import RandomForestRegressor, GradientBoostingRegressor\n",
        "from sklearn.model_selection import train_test_split\n",
        "from sklearn.metrics import mean_squared_error\n",
        "import matplotlib.pyplot as plt\n",
        "\n",
        "features = stock_data[['Open', 'High', 'Low', 'Volume']]  # Update with relevant features\n",
        "target = stock_data['Close']\n",
        "\n",
        "# Split the data into training and testing sets\n",
        "X_train, X_test, y_train, y_test = train_test_split(features, target, test_size=0.2, random_state=42)\n",
        "\n",
        "# Random Forest Model\n",
        "random_forest_model = RandomForestRegressor(n_estimators=100, random_state=42)\n",
        "random_forest_model.fit(X_train, y_train)\n",
        "\n",
        "# Gradient Boosting Model\n",
        "gradient_boosting_model = GradientBoostingRegressor(n_estimators=100, random_state=42)\n",
        "gradient_boosting_model.fit(X_train, y_train)\n",
        "\n",
        "# Predictions\n",
        "rf_predictions = random_forest_model.predict(X_test)\n",
        "gb_predictions = gradient_boosting_model.predict(X_test)\n",
        "\n",
        "# Evaluate performance\n",
        "rf_rmse = mean_squared_error(y_test, rf_predictions, squared=False)\n",
        "gb_rmse = mean_squared_error(y_test, gb_predictions, squared=False)\n",
        "\n",
        "print(f\"Random Forest RMSE: {rf_rmse}\")\n",
        "print(f\"Gradient Boosting RMSE: {gb_rmse}\")\n",
        "\n",
        "# Plot predictions vs. actual values for one of the models\n",
        "plt.plot(y_test.index, y_test, label='Actual Close Prices')\n",
        "plt.plot(y_test.index, gb_predictions, label='Gradient Boosting Predictions', linestyle='dashed')\n",
        "plt.title('Gradient Boosting Model Predictions vs. Actual Close Prices')\n",
        "plt.xlabel('Date')\n",
        "plt.ylabel('Closing Price')\n",
        "plt.legend()\n",
        "plt.show()\n",
        "\n"
      ],
      "metadata": {
        "id": "xHROnGUlc6B-"
      },
      "execution_count": null,
      "outputs": []
    },
    {
      "cell_type": "code",
      "source": [
        "import pandas as pd\n",
        "import numpy as np\n",
        "import matplotlib.pyplot as plt\n",
        "from statsmodels.tsa.arima.model import ARIMA\n",
        "from statsmodels.graphics.tsaplots import plot_acf, plot_pacf\n",
        "\n",
        "stock_data['Date'] = pd.to_datetime(stock_data['Date'])\n",
        "\n",
        "time_series = stock_data.set_index('Date')['Close']\n",
        "\n",
        "plot_acf(time_series, lags=20)\n",
        "plt.title('Autocorrelation Function (ACF)')\n",
        "plt.show()\n",
        "\n",
        "plot_pacf(time_series, lags=20)\n",
        "plt.title('Partial Autocorrelation Function (PACF)')\n",
        "plt.show()\n",
        "\n",
        "# Determine ARIMA parameters (p, d, q)\n",
        "# p: Order of the autoregressive part\n",
        "# d: Degree of differencing\n",
        "# q: Order of the moving average part\n",
        "\n",
        "# For demonstration purposes, let's set p=1, d=1, q=1\n",
        "p, d, q = 1, 1, 1\n",
        "\n",
        "# Fit ARIMA model\n",
        "arima_model = ARIMA(time_series, order=(p, d, q))\n",
        "arima_results = arima_model.fit()\n",
        "\n",
        "# Forecast short-term steps into the future\n",
        "short_term_steps = 5\n",
        "forecast = arima_results.forecast(steps=short_term_steps)\n",
        "\n",
        "# Plot the original time series and the forecast\n",
        "plt.plot(time_series.index, time_series, label='Original Time Series')\n",
        "plt.plot(pd.date_range(time_series.index[-1], periods=short_term_steps+1, freq=time_series.index.freq)[1:], forecast, label='ARIMA Forecast', linestyle='dashed')\n",
        "plt.title('ARIMA Short-Term Forecast')\n",
        "plt.xlabel('Date')\n",
        "plt.ylabel('Closing Price')\n",
        "plt.legend()\n",
        "plt.show()\n"
      ],
      "metadata": {
        "id": "nR_hlcVNcNpt"
      },
      "execution_count": null,
      "outputs": []
    },
    {
      "cell_type": "code",
      "source": [
        "import pandas as pd\n",
        "from sklearn.model_selection import train_test_split\n",
        "\n",
        "features = stock_data[['Open', 'High', 'Low', 'Volume']]  # Update with relevant features\n",
        "target = stock_data['Close']\n",
        "\n",
        "# Split the data into training and testing sets (80% train, 20% test)\n",
        "X_train, X_test, y_train, y_test = train_test_split(features, target, test_size=0.2, random_state=42)\n",
        "\n",
        "# Display the shapes of the resulting sets\n",
        "print(\"X_train shape:\", X_train.shape)\n",
        "print(\"X_test shape:\", X_test.shape)\n",
        "print(\"y_train shape:\", y_train.shape)\n",
        "print(\"y_test shape:\", y_test.shape)\n"
      ],
      "metadata": {
        "id": "wOfUJo-QUo-Z"
      },
      "execution_count": null,
      "outputs": []
    },
    {
      "cell_type": "code",
      "source": [
        "from sklearn.metrics import mean_squared_error\n",
        "\n",
        "# Calculate RMSE\n",
        "rf_rmse = mean_squared_error(y_test, rf_predictions, squared=False)\n",
        "gb_rmse = mean_squared_error(y_test, gb_predictions, squared=False)\n",
        "\n",
        "print(f\"Random Forest RMSE: {rf_rmse}\")\n",
        "print(f\"Gradient Boosting RMSE: {gb_rmse}\")\n"
      ],
      "metadata": {
        "colab": {
          "base_uri": "https://localhost:8080/"
        },
        "id": "3ClILwQ0Uxn4",
        "outputId": "1733615e-fbd6-4e5b-a0ee-2ea66bcc6d67"
      },
      "execution_count": 18,
      "outputs": [
        {
          "output_type": "stream",
          "name": "stdout",
          "text": [
            "Random Forest RMSE: 3.461863165409609\n",
            "Gradient Boosting RMSE: 3.5561314560535977\n"
          ]
        }
      ]
    }
  ]
}